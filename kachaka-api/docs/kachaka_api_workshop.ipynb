{
 "cells": [
  {
   "cell_type": "markdown",
   "id": "970f7890-f7fd-41ce-9f87-1b963c52288f",
   "metadata": {},
   "source": [
    "# カチャカAPIワークショップ"
   ]
  },
  {
   "attachments": {},
   "cell_type": "markdown",
   "id": "8788534f-8383-42cb-ac1f-034abf0cb21c",
   "metadata": {
    "jp-MarkdownHeadingCollapsed": true
   },
   "source": [
    "## このドキュメントの開き方\n",
    "\n",
    "このドキュメントは kachaka-api/docs/kachaka_api_workshop.ipynb にあります。   \n",
    "左側のファイルツリーから選択するか、http://カチャカのIPアドレス:26501/lab/tree/kachaka-api/docs/kachaka_api_workshop.ipynb でアクセス可能です。"
   ]
  },
  {
   "cell_type": "markdown",
   "id": "3e5658fe-4163-44fd-8eb3-869ea763853a",
   "metadata": {},
   "source": [
    "## カチャカAPIを利用するための準備\n",
    "カチャカAPIを利用するためのクライアントを準備します。\n",
    "プログラムを作成する際は以下のコードを先頭に書いて利用することとなります。"
   ]
  },
  {
   "cell_type": "code",
   "execution_count": null,
   "id": "1b81b3c6-ae9c-49ae-8455-0825eb79d92c",
   "metadata": {},
   "outputs": [],
   "source": [
    "import kachaka_api\n",
    "\n",
    "client = kachaka_api.aio.KachakaApiClient()\n",
    "await client.update_resolver()\n",
    "await client.set_auto_homing_enabled(False)"
   ]
  },
  {
   "cell_type": "markdown",
   "id": "11e65b0c-95e4-42f8-99ea-e0cc14d259eb",
   "metadata": {},
   "source": [
    "また、ワークショップで利用するコードが依存するライブラリのimportも行っておきます。"
   ]
  },
  {
   "cell_type": "code",
   "execution_count": null,
   "id": "cde88a55-8fc8-4e86-8632-bc2eddae5c96",
   "metadata": {},
   "outputs": [],
   "source": [
    "import asyncio\n",
    "\n",
    "import matplotlib.pyplot as plt\n",
    "import numpy as np\n",
    "from IPython.display import Image, clear_output, display"
   ]
  },
  {
   "cell_type": "markdown",
   "id": "d720e28b-0ab1-4f92-a2c5-56353ed5b370",
   "metadata": {},
   "source": [
    "## カチャカを発話させる\n",
    "\n",
    "まずはclientの動作確認も兼ねて、カチャカに発話させてみましょう。  \n",
    "下記のコマンドを実行すると、speakの中に指定された文章を発話します。  \n",
    "使用しているカチャカが喋っていることを確認するために、XXの部分を利用しているカチャカの番号に変えて実行してみてください。"
   ]
  },
  {
   "cell_type": "code",
   "execution_count": null,
   "id": "1ebe7d6e-2f15-4334-b420-98a5ff5af684",
   "metadata": {},
   "outputs": [],
   "source": [
    "await client.speak(\"こんにちは、カチャカXXです\")"
   ]
  },
  {
   "cell_type": "markdown",
   "id": "d08d4bb8-243d-4da4-a961-7acfdd7f1c91",
   "metadata": {},
   "source": [
    "## カチャカで家具を運ぶ\n",
    "\n",
    "つづいてカチャカの基本機能である、家具の移動を行ってみましょう。   \n",
    "家具を移動させるためには移動先となる目的地と、運ぶ対象となる家具の登録を行う必要があります。\n",
    "\n",
    "### 目的地の登録\n",
    "\n",
    "まずは移動先となる目的地を登録します。  \n",
    "カチャカはアプリから指定した地点を目的地として登録することができます。  \n",
    "目的地の登録はアプリから行います。\n",
    "[目的地を追加する](https://kachaka.zendesk.com/hc/ja/articles/6370952671759-%E7%9B%AE%E7%9A%84%E5%9C%B0%E3%82%92%E8%BF%BD%E5%8A%A0%E3%81%99%E3%82%8B)を参考に移動先の目的地を追加してください。  \n",
    "<img src=attachment:ba45f2c1-bc4b-4d8e-aa69-ad597ad3bc02.png width=\"25%\"><img src=attachment:515383c5-e770-4f1b-91c2-0e79170ff3f8.png width=\"25%\"><img src=attachment:3e9fef33-5967-44bb-8520-6582baece17b.png width=\"25%\">  \n",
    "マップ上で位置指定して目的地を追加する例。矢印がある側がロボットの正面になります。つまりこの場合はカチャカは目的地で左下の方向を向きます。  \n",
    "\n",
    "### 目的地への移動\n",
    "\n",
    "目的地の登録が完了すると、APIから目的地を指定してカチャカを移動させることができます。  \n",
    "下記の\"目的地\"を先程登録した名前に書き換えて実行して下さい。"
   ]
  },
  {
   "cell_type": "code",
   "execution_count": null,
   "id": "5a41a3af-7527-46e5-95da-27d6775bf880",
   "metadata": {
    "scrolled": true
   },
   "outputs": [],
   "source": [
    "await client.update_resolver()  # 新しく登録された目的地名を取得\n",
    "await client.move_to_location(\"目的地\")"
   ]
  },
  {
   "cell_type": "markdown",
   "id": "f951fa11-2a6e-4330-a1f6-b60d90175d8e",
   "metadata": {},
   "source": [
    "### 充電ドックへの移動\n",
    "\n",
    "下記を実行して充電ドックに戻ります。"
   ]
  },
  {
   "cell_type": "code",
   "execution_count": null,
   "id": "c82d0751-08e9-4b95-a540-f4abaece2ef7",
   "metadata": {},
   "outputs": [],
   "source": [
    "await client.return_home()"
   ]
  },
  {
   "cell_type": "markdown",
   "id": "69d703e6-5d74-4a5b-abab-29aa70107c46",
   "metadata": {},
   "source": [
    "### 家具の登録\n",
    "\n",
    "家具の登録はアプリから行います。\n",
    "[家具を追加する](https://kachaka.zendesk.com/hc/ja/articles/6370685074575-家具を追加する)を参考に移動先の目的地を追加してください。  \n",
    "<img src=attachment:630a98f9-e389-43cc-8dee-fce3776d58f5.png width=\"25%\"><img src=attachment:c0a80a76-8fa0-472d-b890-1cdca11feb00.png width=\"25%\">  \n",
    "\n",
    "### 家具を運ぶ\n",
    "\n",
    "家具の登録が完了すると、APIから目的地を指定して家具を運ぶことができます。  \n",
    "下記の\"家具\", \"目的地\"を登録したものに書き換えて実行して下さい。"
   ]
  },
  {
   "cell_type": "code",
   "execution_count": null,
   "id": "e7ee4097-a5b2-49de-972f-64c923ba2bd8",
   "metadata": {},
   "outputs": [],
   "source": [
    "await client.update_resolver()  # 新しく登録された家具名を取得\n",
    "await client.move_shelf(\"家具\", \"目的地\")"
   ]
  },
  {
   "cell_type": "markdown",
   "id": "015e2a90-5266-4d50-8a0b-c00e29c294e1",
   "metadata": {},
   "source": [
    "### 家具を置く\n",
    "\n",
    "家具とドッキング中は、move_to_location, return_homeは実行できません。  \n",
    "家具を置いてから充電器に戻します。"
   ]
  },
  {
   "cell_type": "code",
   "execution_count": null,
   "id": "9b27c421-0b2b-447a-a80e-93536bdc3929",
   "metadata": {},
   "outputs": [],
   "source": [
    "await client.undock_shelf()\n",
    "await client.return_home()"
   ]
  },
  {
   "cell_type": "markdown",
   "id": "f868fdc1-b371-4da8-b323-75f3b0b348a8",
   "metadata": {},
   "source": [
    "### 家具を片付ける\n",
    "\n",
    "下記のコマンドを実行すると、家具をその家具のホームの位置にまで移動させ、置きます。"
   ]
  },
  {
   "cell_type": "code",
   "execution_count": null,
   "id": "9427af6d-f26a-4365-b058-d53494dffbc9",
   "metadata": {},
   "outputs": [],
   "source": [
    "await client.return_shelf(\"家具\")"
   ]
  },
  {
   "cell_type": "markdown",
   "id": "f02e098f-352b-4a4b-8980-735eb6b60ffb",
   "metadata": {},
   "source": [
    "## 座標を指定してカチャカを移動させる\n",
    "\n",
    "地図上の座標を指定してカチャカを動かすこともできます。  \n",
    "カチャカをマップ上30cm前に動かしてみましょう。  \n",
    "今いる現在地を取得して、そこから30cmの地点を目標値として与えます。\n",
    "\n",
    "### 現在の座標の取得\n",
    "\n",
    "まずはカチャカの現在の座標を下記のコマンドで取得します。  \n",
    "単位はx, y方向がm, thetaがradianです。"
   ]
  },
  {
   "cell_type": "code",
   "execution_count": null,
   "id": "6b9e22e0-7cfb-4cf4-b0a3-039ec78e43ac",
   "metadata": {},
   "outputs": [],
   "source": [
    "pose = await client.get_robot_pose()\n",
    "print(pose)"
   ]
  },
  {
   "cell_type": "markdown",
   "id": "7b7c8db9-6b42-4e5e-8a26-949021616599",
   "metadata": {},
   "source": [
    "### 座標を指定した移動\n",
    "\n",
    "取得したposeを基準にして、移動先の値を与えます。"
   ]
  },
  {
   "cell_type": "code",
   "execution_count": null,
   "id": "cf675151-c5f2-4df7-9517-ef313168e927",
   "metadata": {},
   "outputs": [],
   "source": [
    "await client.move_to_pose(pose.x, pose.y + 0.3, pose.theta)"
   ]
  },
  {
   "cell_type": "markdown",
   "id": "eaa6be12-cae6-4a1b-97f9-14f45cfaf393",
   "metadata": {},
   "source": [
    "## 速度制御\n",
    "\n",
    "位置ではなく速度を指定して動かすことも可能です。指定する値の単位は(m/s, rad/s)です。  \n",
    "下記は 0.628rad/s ≒ 36deg/s を10秒間与えています。"
   ]
  },
  {
   "cell_type": "code",
   "execution_count": null,
   "id": "191e2735-ec95-4074-91ab-b82b0be90bd7",
   "metadata": {},
   "outputs": [],
   "source": [
    "for i in range(10):\n",
    "    await client.set_robot_velocity(0.0, 0.628)\n",
    "    await asyncio.sleep(1)\n",
    "await client.set_robot_stop()"
   ]
  },
  {
   "cell_type": "markdown",
   "id": "8998d6a7-1da6-4801-8adb-fc86ec64c0f8",
   "metadata": {},
   "source": [
    "## カメラ画像\n",
    "\n",
    "下記の実行でカメラ画像を取得、表示します。"
   ]
  },
  {
   "cell_type": "code",
   "execution_count": null,
   "id": "23b8dbd4-9f49-4a1e-b45a-62cf5598de90",
   "metadata": {
    "scrolled": true
   },
   "outputs": [],
   "source": [
    "image = await client.get_front_camera_ros_compressed_image()  # カメラ画像を取得\n",
    "display(Image(data=image.data, format=\"jpeg\"))  # 取得した画像を表示"
   ]
  },
  {
   "cell_type": "markdown",
   "id": "11a7ac94-f115-474d-a052-8c881df38c98",
   "metadata": {},
   "source": [
    "### カメラ画像の連続取得\n",
    "\n",
    "下記のように記述すると、新しいカメラ画像が来るたびに表示を更新することができます。  \n",
    "実行の停止はJupyterLab上部のバーの ■ ボタンで行ってください。"
   ]
  },
  {
   "cell_type": "code",
   "execution_count": null,
   "id": "51867354-855d-4f50-a9b6-d18c4cda267e",
   "metadata": {
    "scrolled": true
   },
   "outputs": [],
   "source": [
    "try:  # 停止を検出するための記述\n",
    "    async for image in client.front_camera_ros_compressed_image.stream():  # 画像が更新されるたびに実行\n",
    "        clear_output(wait=True)  # 前回表示した画像をクリア\n",
    "        display(Image(data=image.data, format=\"jpeg\"))  # 画像を表示\n",
    "except asyncio.CancelledError:  # 停止を検出するための記述\n",
    "    print(\"-> 停止しました\")"
   ]
  },
  {
   "cell_type": "markdown",
   "id": "1cb3062f-e5a6-461c-a8c8-b842260b4c7c",
   "metadata": {},
   "source": [
    "### 物体認識結果の取得\n",
    "\n",
    "下記は物体認識結果を取得するサンプルです。"
   ]
  },
  {
   "cell_type": "code",
   "execution_count": null,
   "id": "d733828b-554e-4959-b1e3-2e420c659592",
   "metadata": {},
   "outputs": [],
   "source": [
    "from kachaka_api.util.vision import OBJECT_LABEL, get_bbox_drawn_image\n",
    "\n",
    "stream_i = client.front_camera_ros_compressed_image.stream()  # カメラ画像を取得するstream\n",
    "stream_d = client.object_detection.stream()  # 物体検出結果を取得するstream\n",
    "try:  # 停止を検出するための記述\n",
    "    while True:\n",
    "        image, (header, objects) = await asyncio.gather(\n",
    "            anext(stream_i), anext(stream_d)\n",
    "        )  # カメラ画像、物体検出結果がくるまで待つ\n",
    "        img = get_bbox_drawn_image(image, objects)  # 物体検出結果が書かれた画像を作成\n",
    "        clear_output(wait=True)  # 前回表示した画像をクリア\n",
    "        display(img)  # 画像を表示\n",
    "        for object in objects:\n",
    "            display(\n",
    "                f\"{OBJECT_LABEL[object.label]}, score={object.score:.2f}\"\n",
    "            )  # 検出された物体のlabelとscoreをprint\n",
    "except asyncio.CancelledError:  # 停止を検出するための記述\n",
    "    print(\"-> 停止しました\")"
   ]
  },
  {
   "cell_type": "markdown",
   "id": "de448fce-8333-4878-b088-d91eaf2e9505",
   "metadata": {},
   "source": [
    "## 各種センサデータ等の取得"
   ]
  },
  {
   "cell_type": "markdown",
   "id": "50b2c468-43b0-4ba7-8152-b159e09244fa",
   "metadata": {},
   "source": [
    "#### マップ上の姿勢の取得\n",
    "- 単位はm, radianです"
   ]
  },
  {
   "cell_type": "code",
   "execution_count": null,
   "id": "00928761-3e13-42c4-9cdb-ad104c33d97b",
   "metadata": {},
   "outputs": [],
   "source": [
    "await client.get_robot_pose()"
   ]
  },
  {
   "cell_type": "markdown",
   "id": "023a7234-a2d5-4596-9ec2-6c900136f56a",
   "metadata": {},
   "source": [
    "#### マップ情報の取得\n",
    "- マップ画像とマップ座標との対応関係については、[plot_map_lidar.ipynb](./plot_map_lidar.ipynb) を参照"
   ]
  },
  {
   "cell_type": "code",
   "execution_count": null,
   "id": "a30f23f7-78b0-4573-b2a9-3faab5040178",
   "metadata": {},
   "outputs": [],
   "source": [
    "map = await client.get_png_map()\n",
    "print(map.name)\n",
    "print(map.resolution, map.width, map.height)\n",
    "print(map.origin)\n",
    "display(Image(data=map.data))"
   ]
  },
  {
   "cell_type": "markdown",
   "id": "866456e3-9efc-4f99-8ae7-e25ca74f92bb",
   "metadata": {},
   "source": [
    "#### LiDARの点群情報の取得\n",
    "- LiDARは充電ドック上にいる間は停止しており、データが更新されません\n"
   ]
  },
  {
   "cell_type": "code",
   "execution_count": null,
   "id": "7b7d1257-22ca-46bd-adb1-996b198a63fa",
   "metadata": {},
   "outputs": [],
   "source": [
    "scan = await client.get_ros_laser_scan()\n",
    "\n",
    "theta = np.linspace(scan.angle_min, scan.angle_max, len(scan.ranges))\n",
    "dist = np.array(scan.ranges)\n",
    "\n",
    "# LiDARの点群を表示するサンプル\n",
    "plt.scatter(dist * np.cos(theta), dist * np.sin(theta))"
   ]
  },
  {
   "cell_type": "markdown",
   "id": "f8613933-3e42-4e61-837b-a4b06779a78d",
   "metadata": {},
   "source": [
    "#### IMU情報の取得"
   ]
  },
  {
   "cell_type": "code",
   "execution_count": null,
   "id": "d953cc6a-4bce-4fa6-9a36-5b4fb3245e22",
   "metadata": {},
   "outputs": [],
   "source": [
    "response = await client.get_ros_imu()\n",
    "response.linear_acceleration"
   ]
  },
  {
   "cell_type": "markdown",
   "id": "64f4a7d0-6d1a-4446-8365-70e800939908",
   "metadata": {},
   "source": [
    "#### オドメトリの取得"
   ]
  },
  {
   "cell_type": "code",
   "execution_count": null,
   "id": "15ef6009-95f9-4bd5-a594-06e6aa0a0f37",
   "metadata": {},
   "outputs": [],
   "source": [
    "response = await client.get_ros_odometry()\n",
    "response.twist.twist"
   ]
  },
  {
   "cell_type": "markdown",
   "id": "ae813d49-6be6-4afa-9070-7aad04bf3b37",
   "metadata": {},
   "source": [
    "## 参考リンク集\n",
    "\n",
    "[Qiita投稿記事](https://qiita.com/organizations/pfrobotics/items) : 社員によるカチャカAPIを利用したより実践的な記事が投稿されています。\n",
    "* [kachaka-apiでカチャカを動かす](https://qiita.com/ksyundo/items/f10f9a6c704442bb3a10)\n",
    "* [カチャカの画像でタスクを開始する](https://qiita.com/KazutoMurase/items/de4fcf789a4767062350)\n",
    "* [kachakaをROS2のnavigationから動かす](https://qiita.com/terakoji-pfr/items/0f1535b45fda58edad83)\n",
    "\n",
    "### demo notebook\n",
    "\n",
    "kachaka-api/python/demos ディレクトリにサンプルのファイルがあります。"
   ]
  },
  {
   "cell_type": "markdown",
   "id": "b2adc635-7465-4fc1-8f64-c2a24cc75759",
   "metadata": {},
   "source": [
    "## 最後に\n",
    "\n",
    "APIワークショップはここまでです。みなさんぜひ自由にカチャカを動かしてみたください。  \n",
    "今回のAPIを組み合わせた例題を1つ用意しました。\n",
    "\n",
    "### 例題\n",
    "\n",
    "複数の地点を登録して、巡回しながら人を見つけて挨拶するプログラムを作成してみましょう。"
   ]
  }
 ],
 "metadata": {
  "kernelspec": {
   "display_name": "Python 3 (ipykernel)",
   "language": "python",
   "name": "python3"
  },
  "language_info": {
   "codemirror_mode": {
    "name": "ipython",
    "version": 3
   },
   "file_extension": ".py",
   "mimetype": "text/x-python",
   "name": "python",
   "nbconvert_exporter": "python",
   "pygments_lexer": "ipython3",
   "version": "3.10.12"
  }
 },
 "nbformat": 4,
 "nbformat_minor": 5
}
